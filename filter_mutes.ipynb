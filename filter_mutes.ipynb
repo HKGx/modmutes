{
 "cells": [
  {
   "cell_type": "code",
   "execution_count": 1,
   "metadata": {},
   "source": [
    "#!fsharp\n",
    "#r \"nuget:FSharp.Data\"\n",
    "open FSharp.Data\n",
    "open System.IO\n",
    "\n",
    "[<Literal>]\n",
    "let SAMPLE = \"\"\"[{\"userId\":\"any\",\"userTag\":\"Loxy#1111\",\"date\":\"1/14/2021, 3:23:38 AM\",\"length\":\"1 hour\",\"moderator\":\"TheKrago#5448\",\"reason\":\"Obrażanie\"}]\"\"\"\n",
    "\n",
    "type Mutes = JsonProvider< SAMPLE >\n",
    "\n",
    "let mutes = Mutes.Load(\"./lista_mute.json\")\n",
    "\n",
    "let onlyDigits (s:string) = s |> Seq.forall System.Char.IsDigit\n",
    "\n",
    "let onlyDigitsInUserId (m: Mutes.Root) = m.UserId |> onlyDigits\n",
    "\n",
    "let tuple a b = \n",
    "    (a, b)\n",
    "\n",
    "mutes \n",
    "|> Array.filter onlyDigitsInUserId\n",
    "|> Array.map (fun m -> m.JsonValue.ToString())\n",
    "|> String.concat \",\"\n",
    "|> sprintf \"[\\n%s\\n]\"\n",
    "|> tuple \"mutes.json\"\n",
    "|> File.WriteAllText\n",
    "\n",
    "\n",
    "\n",
    ""
   ],
   "outputs": []
  }
 ],
 "metadata": {
  "kernelspec": {
   "display_name": ".NET (C#)",
   "language": "C#",
   "name": ".net-csharp"
  },
  "language_info": {
   "file_extension": ".cs",
   "mimetype": "text/x-csharp",
   "name": "C#",
   "pygments_lexer": "csharp",
   "version": "8.0"
  }
 },
 "nbformat": 4,
 "nbformat_minor": 4
}